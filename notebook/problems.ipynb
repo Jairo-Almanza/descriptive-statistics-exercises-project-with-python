{
    "cells": [
        {
            "cell_type": "markdown",
            "id": "ac622319",
            "metadata": {},
            "source": [
                "# Descriptive statistics problems"
            ]
        },
        {
            "cell_type": "markdown",
            "id": "5e0ab0d5",
            "metadata": {},
            "source": [
                "### Exercise 1\n",
                "\n",
                "We will use NumPy to obtain information to describe statistically.\n",
                "\n",
                "- Generate an array of 100 elements following a normal distribution.\n",
                "- Generate an array of 100 elements following a chi-square distribution with 3 degrees of freedom.\n",
                "- Calculate the main metrics and statistical measures that best describe the two vectors."
            ]
        },
        {
            "cell_type": "code",
            "execution_count": 6,
            "id": "34720ab6",
            "metadata": {},
            "outputs": [
                {
                    "name": "stdout",
                    "output_type": "stream",
                    "text": [
                        "Matriz Distribucion normal: [-0.46566477  1.16316375  0.01023306 -0.98150865  0.46210347  0.1990597\n",
                        " -0.60021688  0.06980208 -0.3853136   0.11351735  0.66213067  1.58601682\n",
                        " -1.2378155   2.13303337 -1.9520878  -0.1517851   0.58831721  0.28099187\n",
                        " -0.62269952 -0.20812225 -0.49300093 -0.58936476  0.8496021   0.35701549\n",
                        " -0.6929096   0.89959988  0.30729952  0.81286212  0.62962884 -0.82899501\n",
                        " -0.56018104  0.74729361  0.61037027 -0.02090159  0.11732738  1.2776649\n",
                        " -0.59157139  0.54709738 -0.20219265 -0.2176812   1.09877685  0.82541635\n",
                        "  0.81350964  1.30547881  0.02100384  0.68195297 -0.31026676  0.32416635\n",
                        " -0.13014305  0.09699596  0.59515703 -0.81822068  2.09238728 -1.00601738\n",
                        " -1.21418861  1.15811087  0.79166269  0.62411982  0.62834551 -0.01224677\n",
                        " -0.89725437  0.07580456 -0.67716171  0.97511973 -0.14705738 -0.8254972\n",
                        " -0.32138584  0.41293145 -0.56372455 -0.8222204   0.24368721  0.24496657\n",
                        " -0.50694318 -0.47103831  0.23204994 -1.44808434 -1.40746377 -0.71844422\n",
                        " -0.21344715  0.31090757  1.47535622  0.85765962 -0.15993853 -0.01901621\n",
                        " -1.00252936 -0.01851314 -0.28865864  0.32271856 -0.82723094  0.51934651\n",
                        "  1.53273891 -0.10876015  0.40171172  0.69014399 -0.40122047  0.22409248\n",
                        "  0.0125924   0.0976761  -0.77300978  0.02451017]\n",
                        "Array Chi2: [ 3.58293733  1.51908749  9.09891369  2.10180327  5.14167482  2.00892612\n",
                        "  0.45956062  3.20723089  4.33117443  7.19777835  2.17790019  1.77522352\n",
                        "  3.03161154  0.67495409  2.9808593   2.98871987  2.10644748  2.2155128\n",
                        "  7.38046521  3.07549971  1.72034399  0.44973575  3.69182606  0.96290297\n",
                        "  1.73654274  2.59036183  7.54472707  5.3277711   2.71082909  7.25462978\n",
                        "  4.78975965  0.23587929  7.05083794  2.79292536  0.08389589  5.16086067\n",
                        "  3.12311702  2.30168246  4.51124817  2.31996726  3.31699996  2.07775868\n",
                        "  2.17440999  0.67127015  3.55333205 10.18367756  1.70919699  0.97781997\n",
                        "  1.32205906  0.40415609  1.94354983  2.11995368  2.425542    4.69798933\n",
                        "  1.23338882  1.33950916  0.55883242  1.224709    0.07899059  4.69815408\n",
                        "  0.7836991   0.80016669  2.50928113  0.98387292  0.87400854  0.70962504\n",
                        "  1.1859787   2.83720843  4.90490352  0.90877261  2.32622057  1.50523559\n",
                        "  7.69103582  6.83363635  0.49357305  2.39366523  2.61943055  1.47701934\n",
                        "  1.2254559   0.96207617  1.34266104  4.14682765  3.28198447  2.15467365\n",
                        "  1.09273684  1.36156318 10.11591173  7.87221514  1.31389386  0.76906221\n",
                        "  1.47620825  1.73148801  0.63622797  2.96083063  2.02691249  1.55916209\n",
                        "  1.25955048  4.39111906  1.09360042 12.52884355]\n"
                    ]
                }
            ],
            "source": [
                "import numpy as np\n",
                "\n",
                "matriz_normal = np.random.normal(0, 1, 100)\n",
                "array_chi2 = np.random.chisquare(3, 100)\n",
                "\n",
                "print(f\"Matriz Distribucion normal: {matriz_normal}\")\n",
                "print(f\"Array Chi2: {array_chi2}\")\n"
            ]
        },
        {
            "cell_type": "code",
            "execution_count": 7,
            "id": "c371f783",
            "metadata": {},
            "outputs": [
                {
                    "name": "stdout",
                    "output_type": "stream",
                    "text": [
                        "Medidas estadísticas para matriz_normal:\n",
                        "Media: 0.07\n",
                        "Mediana: 0.05\n",
                        "Desviación estándar: 0.77\n",
                        "Mínimo: -1.95\n",
                        "Máximo: 2.13\n",
                        "Percentiles (25%, 50%, 75%): [-0.49648649  0.04715613  0.61380765]\n"
                    ]
                }
            ],
            "source": [
                "# Medidas estadísticas para matriz_normal\n",
                "media_normal = np.mean(matriz_normal)\n",
                "mediana_normal = np.median(matriz_normal)\n",
                "std_normal = np.std(matriz_normal)\n",
                "min_normal = np.min(matriz_normal)\n",
                "max_normal = np.max(matriz_normal)\n",
                "percentiles_normal = np.percentile(matriz_normal, [25, 50, 75])\n",
                "\n",
                "print(\"Medidas estadísticas para matriz_normal:\")\n",
                "print(f\"Media: {media_normal:.2f}\")\n",
                "print(f\"Mediana: {mediana_normal:.2f}\")\n",
                "print(f\"Desviación estándar: {std_normal:.2f}\")\n",
                "print(f\"Mínimo: {min_normal:.2f}\")\n",
                "print(f\"Máximo: {max_normal:.2f}\")\n",
                "print(\"Percentiles (25%, 50%, 75%):\", percentiles_normal)"
            ]
        },
        {
            "cell_type": "code",
            "execution_count": 8,
            "id": "3ec976ac",
            "metadata": {},
            "outputs": [
                {
                    "name": "stdout",
                    "output_type": "stream",
                    "text": [
                        "\n",
                        "Medidas estadísticas para array_chi2:\n",
                        "Media: 2.87\n",
                        "Mediana: 2.14\n",
                        "Desviación estándar: 2.46\n",
                        "Mínimo: 0.08\n",
                        "Máximo: 12.53\n",
                        "Percentiles (25%, 50%, 75%): [1.22526918 2.13731367 3.56073337]\n"
                    ]
                }
            ],
            "source": [
                "# Medidas estadísticas para array_chi2\n",
                "media_chi2 = np.mean(array_chi2)\n",
                "mediana_chi2 = np.median(array_chi2)\n",
                "std_chi2 = np.std(array_chi2)\n",
                "min_chi2 = np.min(array_chi2)\n",
                "max_chi2 = np.max(array_chi2)\n",
                "percentiles_chi2 = np.percentile(array_chi2, [25, 50, 75])\n",
                "\n",
                "print(\"\\nMedidas estadísticas para array_chi2:\")\n",
                "print(f\"Media: {media_chi2:.2f}\")\n",
                "print(f\"Mediana: {mediana_chi2:.2f}\")\n",
                "print(f\"Desviación estándar: {std_chi2:.2f}\")\n",
                "print(f\"Mínimo: {min_chi2:.2f}\")\n",
                "print(f\"Máximo: {max_chi2:.2f}\")\n",
                "print(\"Percentiles (25%, 50%, 75%):\", percentiles_chi2)"
            ]
        },
        {
            "cell_type": "markdown",
            "id": "46c70c3d",
            "metadata": {},
            "source": [
                "### Exercise 2\n",
                "\n",
                "Write a Python program to calculate the standard deviation of the following data:\n",
                "\n",
                "```py\n",
                "data = [4, 2, 5, 8, 6]\n",
                "```"
            ]
        },
        {
            "cell_type": "code",
            "execution_count": 9,
            "id": "d590308e",
            "metadata": {},
            "outputs": [
                {
                    "name": "stdout",
                    "output_type": "stream",
                    "text": [
                        "Desviacion Estandar:  2.0\n"
                    ]
                }
            ],
            "source": [
                "data = [4, 2, 5, 8, 6]\n",
                "\n",
                "estandar = np.std(data)\n",
                "print(f\"Desviacion Estandar: \", estandar)"
            ]
        }
    ],
    "metadata": {
        "interpreter": {
            "hash": "9248718ffe6ce6938b217e69dbcc175ea21f4c6b28a317e96c05334edae734bb"
        },
        "kernelspec": {
            "display_name": "Python 3.9.12 ('ML-BOOTCAMP')",
            "language": "python",
            "name": "python3"
        },
        "language_info": {
            "codemirror_mode": {
                "name": "ipython",
                "version": 3
            },
            "file_extension": ".py",
            "mimetype": "text/x-python",
            "name": "python",
            "nbconvert_exporter": "python",
            "pygments_lexer": "ipython3",
            "version": "3.11.4"
        }
    },
    "nbformat": 4,
    "nbformat_minor": 5
}
